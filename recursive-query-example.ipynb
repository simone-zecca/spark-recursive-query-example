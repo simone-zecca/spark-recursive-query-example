{
 "cells": [
  {
   "cell_type": "code",
   "execution_count": 9,
   "metadata": {},
   "outputs": [],
   "source": [
    "from pyspark.sql import *\n",
    "import pyspark\n",
    "from pyspark.sql import functions as f\n",
    "from pyspark.sql.window import Window\n",
    "\n",
    "import pandas as pd"
   ]
  },
  {
   "cell_type": "code",
   "execution_count": 101,
   "metadata": {},
   "outputs": [
    {
     "data": {
      "text/html": [
       "<div>\n",
       "<style scoped>\n",
       "    .dataframe tbody tr th:only-of-type {\n",
       "        vertical-align: middle;\n",
       "    }\n",
       "\n",
       "    .dataframe tbody tr th {\n",
       "        vertical-align: top;\n",
       "    }\n",
       "\n",
       "    .dataframe thead th {\n",
       "        text-align: right;\n",
       "    }\n",
       "</style>\n",
       "<table border=\"1\" class=\"dataframe\">\n",
       "  <thead>\n",
       "    <tr style=\"text-align: right;\">\n",
       "      <th></th>\n",
       "      <th>employee_number</th>\n",
       "      <th>manager_employee_number</th>\n",
       "    </tr>\n",
       "  </thead>\n",
       "  <tbody>\n",
       "    <tr>\n",
       "      <th>0</th>\n",
       "      <td>801</td>\n",
       "      <td>None</td>\n",
       "    </tr>\n",
       "    <tr>\n",
       "      <th>1</th>\n",
       "      <td>1003</td>\n",
       "      <td>801</td>\n",
       "    </tr>\n",
       "    <tr>\n",
       "      <th>2</th>\n",
       "      <td>1019</td>\n",
       "      <td>801</td>\n",
       "    </tr>\n",
       "    <tr>\n",
       "      <th>3</th>\n",
       "      <td>1016</td>\n",
       "      <td>801</td>\n",
       "    </tr>\n",
       "    <tr>\n",
       "      <th>4</th>\n",
       "      <td>1008</td>\n",
       "      <td>1019</td>\n",
       "    </tr>\n",
       "    <tr>\n",
       "      <th>5</th>\n",
       "      <td>1006</td>\n",
       "      <td>1019</td>\n",
       "    </tr>\n",
       "    <tr>\n",
       "      <th>6</th>\n",
       "      <td>1014</td>\n",
       "      <td>1019</td>\n",
       "    </tr>\n",
       "    <tr>\n",
       "      <th>7</th>\n",
       "      <td>1011</td>\n",
       "      <td>1019</td>\n",
       "    </tr>\n",
       "    <tr>\n",
       "      <th>8</th>\n",
       "      <td>1010</td>\n",
       "      <td>1003</td>\n",
       "    </tr>\n",
       "    <tr>\n",
       "      <th>9</th>\n",
       "      <td>1001</td>\n",
       "      <td>1003</td>\n",
       "    </tr>\n",
       "    <tr>\n",
       "      <th>10</th>\n",
       "      <td>1004</td>\n",
       "      <td>1003</td>\n",
       "    </tr>\n",
       "    <tr>\n",
       "      <th>11</th>\n",
       "      <td>1012</td>\n",
       "      <td>1004</td>\n",
       "    </tr>\n",
       "    <tr>\n",
       "      <th>12</th>\n",
       "      <td>1002</td>\n",
       "      <td>1004</td>\n",
       "    </tr>\n",
       "    <tr>\n",
       "      <th>13</th>\n",
       "      <td>1015</td>\n",
       "      <td>1004</td>\n",
       "    </tr>\n",
       "  </tbody>\n",
       "</table>\n",
       "</div>"
      ],
      "text/plain": [
       "   employee_number manager_employee_number\n",
       "0              801                    None\n",
       "1             1003                     801\n",
       "2             1019                     801\n",
       "3             1016                     801\n",
       "4             1008                    1019\n",
       "5             1006                    1019\n",
       "6             1014                    1019\n",
       "7             1011                    1019\n",
       "8             1010                    1003\n",
       "9             1001                    1003\n",
       "10            1004                    1003\n",
       "11            1012                    1004\n",
       "12            1002                    1004\n",
       "13            1015                    1004"
      ]
     },
     "metadata": {},
     "output_type": "display_data"
    }
   ],
   "source": [
    "data_pandas = pd.DataFrame(\\\n",
    "    {'employee_number':['801','1003','1019','1016','1008','1006','1014','1011','1010','1001','1004','1012','1002','1015'],\\\n",
    "     'manager_employee_number':[None,'801','801','801','1019','1019','1019','1019','1003','1003','1003','1004','1004','1004']})\n",
    "data_pandas.employee_number = data_pandas.employee_number.astype(str)\n",
    "data_pandas.manager_employee_number = data_pandas.manager_employee_number.astype(str)\n",
    "display(data_pandas)"
   ]
  },
  {
   "cell_type": "code",
   "execution_count": 103,
   "metadata": {},
   "outputs": [
    {
     "name": "stdout",
     "output_type": "stream",
     "text": [
      "+---------------+-----------------------+\n",
      "|employee_number|manager_employee_number|\n",
      "+---------------+-----------------------+\n",
      "|            801|                   None|\n",
      "|           1003|                    801|\n",
      "|           1019|                    801|\n",
      "|           1016|                    801|\n",
      "|           1008|                   1019|\n",
      "|           1006|                   1019|\n",
      "|           1014|                   1019|\n",
      "|           1011|                   1019|\n",
      "|           1010|                   1003|\n",
      "|           1001|                   1003|\n",
      "|           1004|                   1003|\n",
      "|           1012|                   1004|\n",
      "|           1002|                   1004|\n",
      "|           1015|                   1004|\n",
      "+---------------+-----------------------+\n",
      "\n"
     ]
    }
   ],
   "source": [
    "df_employee_rec = spark.createDataFrame(data_pandas).coalesce(1)\n",
    "df_employee_rec.show(20)"
   ]
  },
  {
   "cell_type": "code",
   "execution_count": 104,
   "metadata": {},
   "outputs": [
    {
     "name": "stdout",
     "output_type": "stream",
     "text": [
      "+---------------+\n",
      "|employee_number|\n",
      "+---------------+\n",
      "|            801|\n",
      "+---------------+\n",
      "\n",
      "df_cnt:1\n",
      "cnt:1\n"
     ]
    }
   ],
   "source": [
    "df_employee_rec.registerTempTable(\"employee_rec\")\n",
    "df_employee_seed = spark.sql(\"select employee_number from employee_rec where manager_employee_number = 'None'\")\n",
    "df_employee_seed.show()\n",
    "\n",
    "df_cnt = 1\n",
    "cnt = 1\n",
    "df_employee_seed.registerTempTable(\"vt_seed0\")\n",
    "print(f\"df_cnt:{df_cnt}\")\n",
    "print(f\"cnt:{cnt}\")"
   ]
  },
  {
   "cell_type": "code",
   "execution_count": 105,
   "metadata": {},
   "outputs": [
    {
     "name": "stdout",
     "output_type": "stream",
     "text": [
      "df_cnt:1\n",
      "tblnm:vt_seed0\n",
      "tblnm1:vt_seed1\n",
      "register temp table:vt_seed1\n",
      "df_cnt:3\n",
      "tblnm:vt_seed1\n",
      "tblnm1:vt_seed2\n",
      "register temp table:vt_seed2\n",
      "df_cnt:7\n",
      "tblnm:vt_seed2\n",
      "tblnm1:vt_seed3\n",
      "register temp table:vt_seed3\n",
      "df_cnt:3\n",
      "tblnm:vt_seed3\n",
      "tblnm1:vt_seed4\n",
      "+---------------+\n",
      "|employee_number|\n",
      "+---------------+\n",
      "+---------------+\n",
      "\n"
     ]
    }
   ],
   "source": [
    "while (df_cnt != 0):\n",
    "    print(f\"df_cnt:{df_cnt}\")\n",
    "    tblnm = \"vt_seed\" + str(cnt-1) ;\n",
    "    print(f\"tblnm:{tblnm}\")\n",
    "    tblnm1 = \"vt_seed\" + str(cnt) ;\n",
    "    print(f\"tblnm1:{tblnm1}\")\n",
    "    df_employee_rec = spark.sql(f\"select indirect.employee_number FROM {tblnm} direct, employee_rec indirect WHERE direct.employee_number = indirect.manager_employee_number\");\n",
    "    df_cnt=int(df_employee_rec.count());\n",
    "    if(df_cnt!=0):\n",
    "        print(f'register temp table:{tblnm1}')\n",
    "        df_employee_rec.registerTempTable(tblnm1);\n",
    "\n",
    "    cnt = cnt + 1;"
   ]
  },
  {
   "cell_type": "code",
   "execution_count": 109,
   "metadata": {},
   "outputs": [
    {
     "name": "stdout",
     "output_type": "stream",
     "text": [
      "empty sons:\n",
      "+---------------+\n",
      "|employee_number|\n",
      "+---------------+\n",
      "|            801|\n",
      "+---------------+\n",
      "\n",
      "801 sons:\n",
      "+---------------+\n",
      "|employee_number|\n",
      "+---------------+\n",
      "|           1003|\n",
      "|           1019|\n",
      "|           1016|\n",
      "+---------------+\n",
      "\n",
      "1003|1019|1016 sons:\n",
      "+---------------+\n",
      "|employee_number|\n",
      "+---------------+\n",
      "|           1010|\n",
      "|           1001|\n",
      "|           1004|\n",
      "|           1008|\n",
      "|           1006|\n",
      "|           1014|\n",
      "|           1011|\n",
      "+---------------+\n",
      "\n",
      "1010|1001|1004|1008|1006|1014|1011 sons:\n",
      "+---------------+\n",
      "|employee_number|\n",
      "+---------------+\n",
      "|           1012|\n",
      "|           1002|\n",
      "|           1015|\n",
      "+---------------+\n",
      "\n"
     ]
    }
   ],
   "source": [
    "print(\"empty sons:\")\n",
    "spark.sql(\"select * from vt_seed0\").show()\n",
    "print(\"801 sons:\")\n",
    "spark.sql(\"select * from vt_seed1\").show()\n",
    "print(\"1003|1019|1016 sons:\")\n",
    "spark.sql(\"select * from vt_seed2\").show()\n",
    "print(\"1010|1001|1004|1008|1006|1014|1011 sons:\")\n",
    "spark.sql(\"select * from vt_seed3\").show()"
   ]
  },
  {
   "cell_type": "code",
   "execution_count": 111,
   "metadata": {},
   "outputs": [
    {
     "name": "stdout",
     "output_type": "stream",
     "text": [
      "final query:\n",
      "select employee_number from vt_seed0 union select employee_number from vt_seed1 union select employee_number from vt_seed2 union select employee_number from vt_seed3\n"
     ]
    }
   ],
   "source": [
    "fin_query = \"\"\n",
    "values = [(a) for a in range(0,(cnt-1))]\n",
    "for value in values:\n",
    "    if (value == 0):\n",
    "        fin_query = fin_query + \"select employee_number from vt_seed\" + str(value)\n",
    "    else:\n",
    "        fin_query = fin_query+ \" union select employee_number from vt_seed\" + str(value)\n",
    "        \n",
    "print(f\"final query:\\n{fin_query}\")"
   ]
  },
  {
   "cell_type": "code",
   "execution_count": 112,
   "metadata": {},
   "outputs": [
    {
     "name": "stdout",
     "output_type": "stream",
     "text": [
      "full list of descendant:\n",
      "+---------------+\n",
      "|employee_number|\n",
      "+---------------+\n",
      "|           1001|\n",
      "|           1002|\n",
      "|           1003|\n",
      "|           1004|\n",
      "|           1006|\n",
      "|           1008|\n",
      "|           1010|\n",
      "|           1011|\n",
      "|           1012|\n",
      "|           1014|\n",
      "|           1015|\n",
      "|           1016|\n",
      "|           1019|\n",
      "|            801|\n",
      "+---------------+\n",
      "\n"
     ]
    }
   ],
   "source": [
    "final_result_df = spark.sql(fin_query)\n",
    "print(\"full list of descendant:\")\n",
    "final_result_df.sort(f.asc(\"employee_number\") ).show()"
   ]
  }
 ],
 "metadata": {
  "kernelspec": {
   "display_name": "Latest - Pyspark2.3 [anaconda3-5.1.0]",
   "language": "",
   "name": "pyspark2-3_anaconda3-5.1.0"
  },
  "language_info": {
   "codemirror_mode": {
    "name": "ipython",
    "version": 3
   },
   "file_extension": ".py",
   "mimetype": "text/x-python",
   "name": "python",
   "nbconvert_exporter": "python",
   "pygments_lexer": "ipython3",
   "version": "3.6.4"
  }
 },
 "nbformat": 4,
 "nbformat_minor": 2
}
